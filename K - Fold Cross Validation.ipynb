{
 "cells": [
  {
   "cell_type": "markdown",
   "id": "581cfced-9e91-489b-a377-495348dbb487",
   "metadata": {},
   "source": [
    "## Importing Libraries"
   ]
  },
  {
   "cell_type": "code",
   "execution_count": 2,
   "id": "b6180830-ba87-4b70-8d1a-de75e631bb8d",
   "metadata": {},
   "outputs": [],
   "source": [
    "import numpy as np\n",
    "import pandas as pd\n",
    "import matplotlib.pyplot as plt\n",
    "import matplotlib.axes as ax\n",
    "\n",
    "from sklearn import datasets\n",
    "import warnings\n",
    "warnings.filterwarnings(\"ignore\")"
   ]
  },
  {
   "cell_type": "markdown",
   "id": "c4e3d48f-387c-4b3c-8f76-fc8529b0a3ca",
   "metadata": {},
   "source": [
    "## Loading Data"
   ]
  },
  {
   "cell_type": "code",
   "execution_count": 4,
   "id": "e63f0b6a-d2f6-4cf2-8342-2aa0484def4e",
   "metadata": {},
   "outputs": [],
   "source": [
    "data = datasets.fetch_california_housing()"
   ]
  },
  {
   "cell_type": "code",
   "execution_count": 5,
   "id": "1428aac2-295f-42a6-85ba-d765340e5645",
   "metadata": {},
   "outputs": [
    {
     "data": {
      "text/plain": [
       "{'data': array([[   8.3252    ,   41.        ,    6.98412698, ...,    2.55555556,\n",
       "           37.88      , -122.23      ],\n",
       "        [   8.3014    ,   21.        ,    6.23813708, ...,    2.10984183,\n",
       "           37.86      , -122.22      ],\n",
       "        [   7.2574    ,   52.        ,    8.28813559, ...,    2.80225989,\n",
       "           37.85      , -122.24      ],\n",
       "        ...,\n",
       "        [   1.7       ,   17.        ,    5.20554273, ...,    2.3256351 ,\n",
       "           39.43      , -121.22      ],\n",
       "        [   1.8672    ,   18.        ,    5.32951289, ...,    2.12320917,\n",
       "           39.43      , -121.32      ],\n",
       "        [   2.3886    ,   16.        ,    5.25471698, ...,    2.61698113,\n",
       "           39.37      , -121.24      ]]),\n",
       " 'target': array([4.526, 3.585, 3.521, ..., 0.923, 0.847, 0.894]),\n",
       " 'frame': None,\n",
       " 'target_names': ['MedHouseVal'],\n",
       " 'feature_names': ['MedInc',\n",
       "  'HouseAge',\n",
       "  'AveRooms',\n",
       "  'AveBedrms',\n",
       "  'Population',\n",
       "  'AveOccup',\n",
       "  'Latitude',\n",
       "  'Longitude'],\n",
       " 'DESCR': '.. _california_housing_dataset:\\n\\nCalifornia Housing dataset\\n--------------------------\\n\\n**Data Set Characteristics:**\\n\\n    :Number of Instances: 20640\\n\\n    :Number of Attributes: 8 numeric, predictive attributes and the target\\n\\n    :Attribute Information:\\n        - MedInc        median income in block group\\n        - HouseAge      median house age in block group\\n        - AveRooms      average number of rooms per household\\n        - AveBedrms     average number of bedrooms per household\\n        - Population    block group population\\n        - AveOccup      average number of household members\\n        - Latitude      block group latitude\\n        - Longitude     block group longitude\\n\\n    :Missing Attribute Values: None\\n\\nThis dataset was obtained from the StatLib repository.\\nhttps://www.dcc.fc.up.pt/~ltorgo/Regression/cal_housing.html\\n\\nThe target variable is the median house value for California districts,\\nexpressed in hundreds of thousands of dollars ($100,000).\\n\\nThis dataset was derived from the 1990 U.S. census, using one row per census\\nblock group. A block group is the smallest geographical unit for which the U.S.\\nCensus Bureau publishes sample data (a block group typically has a population\\nof 600 to 3,000 people).\\n\\nA household is a group of people residing within a home. Since the average\\nnumber of rooms and bedrooms in this dataset are provided per household, these\\ncolumns may take surprisingly large values for block groups with few households\\nand many empty houses, such as vacation resorts.\\n\\nIt can be downloaded/loaded using the\\n:func:`sklearn.datasets.fetch_california_housing` function.\\n\\n.. topic:: References\\n\\n    - Pace, R. Kelley and Ronald Barry, Sparse Spatial Autoregressions,\\n      Statistics and Probability Letters, 33 (1997) 291-297\\n'}"
      ]
     },
     "execution_count": 5,
     "metadata": {},
     "output_type": "execute_result"
    }
   ],
   "source": [
    "data"
   ]
  },
  {
   "cell_type": "markdown",
   "id": "35f076dc-20ea-4e30-8b33-1542ff6b7f25",
   "metadata": {},
   "source": [
    "## Data "
   ]
  },
  {
   "cell_type": "code",
   "execution_count": 7,
   "id": "9d683013-72ab-4f00-87ce-f969eeea904f",
   "metadata": {},
   "outputs": [],
   "source": [
    "x = data.data"
   ]
  },
  {
   "cell_type": "code",
   "execution_count": 8,
   "id": "a4c4d960-d6bc-4ba9-9c7c-566c68b7008e",
   "metadata": {},
   "outputs": [
    {
     "data": {
      "text/plain": [
       "array([[   8.3252    ,   41.        ,    6.98412698, ...,    2.55555556,\n",
       "          37.88      , -122.23      ],\n",
       "       [   8.3014    ,   21.        ,    6.23813708, ...,    2.10984183,\n",
       "          37.86      , -122.22      ],\n",
       "       [   7.2574    ,   52.        ,    8.28813559, ...,    2.80225989,\n",
       "          37.85      , -122.24      ],\n",
       "       ...,\n",
       "       [   1.7       ,   17.        ,    5.20554273, ...,    2.3256351 ,\n",
       "          39.43      , -121.22      ],\n",
       "       [   1.8672    ,   18.        ,    5.32951289, ...,    2.12320917,\n",
       "          39.43      , -121.32      ],\n",
       "       [   2.3886    ,   16.        ,    5.25471698, ...,    2.61698113,\n",
       "          39.37      , -121.24      ]])"
      ]
     },
     "execution_count": 8,
     "metadata": {},
     "output_type": "execute_result"
    }
   ],
   "source": [
    "x"
   ]
  },
  {
   "cell_type": "code",
   "execution_count": 9,
   "id": "0ff40188-df05-4f97-b557-259a0be2689b",
   "metadata": {},
   "outputs": [],
   "source": [
    "y = data.target"
   ]
  },
  {
   "cell_type": "code",
   "execution_count": 10,
   "id": "5e6ab398-eb63-4b42-bc20-aa2ba12a9ebf",
   "metadata": {},
   "outputs": [
    {
     "data": {
      "text/plain": [
       "['MedInc',\n",
       " 'HouseAge',\n",
       " 'AveRooms',\n",
       " 'AveBedrms',\n",
       " 'Population',\n",
       " 'AveOccup',\n",
       " 'Latitude',\n",
       " 'Longitude']"
      ]
     },
     "execution_count": 10,
     "metadata": {},
     "output_type": "execute_result"
    }
   ],
   "source": [
    "features = data.feature_names\n",
    "features"
   ]
  },
  {
   "cell_type": "code",
   "execution_count": 11,
   "id": "c1c572f9-c945-42ff-9665-3c28ea669d8d",
   "metadata": {},
   "outputs": [],
   "source": [
    "from sklearn.model_selection import train_test_split\n",
    "x_train, x_test, y_train, y_test = train_test_split(x, y, test_size = 0.2)"
   ]
  },
  {
   "cell_type": "code",
   "execution_count": 12,
   "id": "967ac95f-9d71-4279-a806-5389235ee7af",
   "metadata": {},
   "outputs": [
    {
     "name": "stdout",
     "output_type": "stream",
     "text": [
      "(16512, 8) (16512,)\n",
      "(4128, 8) (4128,)\n"
     ]
    }
   ],
   "source": [
    "print(x_train.shape, y_train.shape)\n",
    "print(x_test.shape, y_test.shape)"
   ]
  },
  {
   "cell_type": "markdown",
   "id": "d717d9eb-9a62-41f9-aa4d-cc8374240ede",
   "metadata": {},
   "source": [
    "## <font color = \"Red\">Random Forest</font>"
   ]
  },
  {
   "cell_type": "code",
   "execution_count": 14,
   "id": "668b11e1-dc77-4579-8380-5243cd6c66f8",
   "metadata": {},
   "outputs": [],
   "source": [
    "from sklearn.ensemble import RandomForestRegressor\n",
    "rf = RandomForestRegressor(100)\n",
    "rf = rf.fit(x_train, y_train)"
   ]
  },
  {
   "cell_type": "code",
   "execution_count": 15,
   "id": "2ef69bea-14fa-4cc4-8d89-7e0370b68ca6",
   "metadata": {},
   "outputs": [],
   "source": [
    "predictions = rf.predict(x_test)"
   ]
  },
  {
   "cell_type": "code",
   "execution_count": 16,
   "id": "3926398d-2fa6-4213-82b9-06f79af3f42d",
   "metadata": {},
   "outputs": [
    {
     "data": {
      "text/plain": [
       "(4128,)"
      ]
     },
     "execution_count": 16,
     "metadata": {},
     "output_type": "execute_result"
    }
   ],
   "source": [
    "predictions.shape"
   ]
  },
  {
   "cell_type": "code",
   "execution_count": 17,
   "id": "a2d8166e-7ba4-4aab-9587-b31534e18092",
   "metadata": {},
   "outputs": [
    {
     "data": {
      "text/plain": [
       "0.26221651203872326"
      ]
     },
     "execution_count": 17,
     "metadata": {},
     "output_type": "execute_result"
    }
   ],
   "source": [
    "from sklearn.metrics import mean_squared_error\n",
    "mean_squared_error(y_test, predictions)"
   ]
  },
  {
   "cell_type": "markdown",
   "id": "b6707bc4-4610-4d38-ab64-48e5c944ee53",
   "metadata": {},
   "source": [
    "## <font color = \"Red\">K - Fold Cross Validation</font>"
   ]
  },
  {
   "cell_type": "code",
   "execution_count": 19,
   "id": "4aae6c65-a528-4d86-8134-fa1dfbd6a5b2",
   "metadata": {},
   "outputs": [
    {
     "name": "stdout",
     "output_type": "stream",
     "text": [
      "Train - \n",
      " [ 4128  4129  4130 ... 20637 20638 20639] \n",
      "test - \n",
      " [   0    1    2 ... 4125 4126 4127]\n",
      "=========\n",
      "\n",
      "Train - \n",
      " [    0     1     2 ... 20637 20638 20639] \n",
      "test - \n",
      " [4128 4129 4130 ... 8253 8254 8255]\n",
      "=========\n",
      "\n",
      "Train - \n",
      " [    0     1     2 ... 20637 20638 20639] \n",
      "test - \n",
      " [ 8256  8257  8258 ... 12381 12382 12383]\n",
      "=========\n",
      "\n",
      "Train - \n",
      " [    0     1     2 ... 20637 20638 20639] \n",
      "test - \n",
      " [12384 12385 12386 ... 16509 16510 16511]\n",
      "=========\n",
      "\n",
      "Train - \n",
      " [    0     1     2 ... 16509 16510 16511] \n",
      "test - \n",
      " [16512 16513 16514 ... 20637 20638 20639]\n",
      "=========\n",
      "\n"
     ]
    }
   ],
   "source": [
    "from sklearn.model_selection import KFold\n",
    "kfold = KFold(n_splits = 5, shuffle = False)\n",
    "\n",
    "for train_index, test_index in kfold.split(x):\n",
    "    print(\"Train - \\n\", train_index, \"\\ntest - \\n\", test_index)\n",
    "    print(\"=========\\n\")"
   ]
  },
  {
   "cell_type": "code",
   "execution_count": 37,
   "id": "b760fc03-d182-49d3-b236-f77c3046ddfe",
   "metadata": {},
   "outputs": [
    {
     "name": "stdout",
     "output_type": "stream",
     "text": [
      "Results for n_estimator:  100\n",
      "[0.5300532553427706, 0.346032824798509, 0.3726105639755796, 0.43019236962911134, 0.46527370403307006]\n",
      "Average Error =  0.4288325435558081\n",
      "Results for n_estimator:  200\n",
      "[0.5195611742801269, 0.34350366145051003, 0.37070686943587045, 0.44722776529058084, 0.46499347130885693]\n",
      "Average Error =  0.4291985883531891\n",
      "Results for n_estimator:  500\n",
      "[0.5279073282519346, 0.3431546239362382, 0.3701240757309286, 0.44160381921576336, 0.46270982425868357]\n",
      "Average Error =  0.4290999342787097\n"
     ]
    }
   ],
   "source": [
    "rf1= RandomForestRegressor()\n",
    "n_est = [100, 200, 500]\n",
    "for n_estimator in n_est:       \n",
    "    error = []\n",
    "    for train_index, test_index in kfold.split(x):\n",
    "        x_train, x_test = x[train_index], x[test_index]\n",
    "        y_train, y_test = y[train_index], y[test_index]\n",
    "        rf1 = RandomForestRegressor(n_estimator)\n",
    "        rf1 = rf1.fit(x_train, y_train)\n",
    "        prediction = rf1.predict(x_test)\n",
    "        error.append(mean_squared_error(y_test, prediction))\n",
    "    print(\"Results for n_estimator: \", n_estimator)\n",
    "    print(error)\n",
    "    print(\"Average Error = \", sum(error)/len(error))"
   ]
  },
  {
   "cell_type": "code",
   "execution_count": 39,
   "id": "d7db80ee-a785-4096-9132-8287305e814f",
   "metadata": {},
   "outputs": [
    {
     "data": {
      "text/plain": [
       "[0.5279073282519346,\n",
       " 0.3431546239362382,\n",
       " 0.3701240757309286,\n",
       " 0.44160381921576336,\n",
       " 0.46270982425868357]"
      ]
     },
     "execution_count": 39,
     "metadata": {},
     "output_type": "execute_result"
    }
   ],
   "source": [
    "error"
   ]
  },
  {
   "cell_type": "code",
   "execution_count": null,
   "id": "6db487e6-7ef4-4ff9-b2f9-16622f1d261b",
   "metadata": {},
   "outputs": [],
   "source": []
  }
 ],
 "metadata": {
  "kernelspec": {
   "display_name": "Python 3 (ipykernel)",
   "language": "python",
   "name": "python3"
  },
  "language_info": {
   "codemirror_mode": {
    "name": "ipython",
    "version": 3
   },
   "file_extension": ".py",
   "mimetype": "text/x-python",
   "name": "python",
   "nbconvert_exporter": "python",
   "pygments_lexer": "ipython3",
   "version": "3.11.7"
  }
 },
 "nbformat": 4,
 "nbformat_minor": 5
}
