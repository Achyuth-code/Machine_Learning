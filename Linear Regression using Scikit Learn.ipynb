{
 "cells": [
  {
   "cell_type": "markdown",
   "id": "b9d95d06-c572-4cd7-990a-f3f4b9125bb8",
   "metadata": {},
   "source": [
    "## Importing Libraries"
   ]
  },
  {
   "cell_type": "code",
   "execution_count": 2,
   "id": "e34aa1da-47e0-483c-b941-c431be94092a",
   "metadata": {},
   "outputs": [],
   "source": [
    "import numpy as np\n",
    "import pandas as pd\n",
    "import matplotlib.pyplot as plt\n",
    "import matplotlib.axes as ax"
   ]
  },
  {
   "cell_type": "markdown",
   "id": "67ffc4e8-9d09-4fff-83eb-bfc061e7c765",
   "metadata": {},
   "source": [
    "## Loading the Data"
   ]
  },
  {
   "cell_type": "code",
   "execution_count": 7,
   "id": "f59e00c2-2f90-4167-a438-95aed353603c",
   "metadata": {},
   "outputs": [],
   "source": [
    "data = pd.read_csv(\"data_for_lr.csv\")"
   ]
  },
  {
   "cell_type": "code",
   "execution_count": 9,
   "id": "0fc59214-ee5a-4033-8f20-b6db7f971d3d",
   "metadata": {},
   "outputs": [
    {
     "data": {
      "text/html": [
       "<div>\n",
       "<style scoped>\n",
       "    .dataframe tbody tr th:only-of-type {\n",
       "        vertical-align: middle;\n",
       "    }\n",
       "\n",
       "    .dataframe tbody tr th {\n",
       "        vertical-align: top;\n",
       "    }\n",
       "\n",
       "    .dataframe thead th {\n",
       "        text-align: right;\n",
       "    }\n",
       "</style>\n",
       "<table border=\"1\" class=\"dataframe\">\n",
       "  <thead>\n",
       "    <tr style=\"text-align: right;\">\n",
       "      <th></th>\n",
       "      <th>x</th>\n",
       "      <th>y</th>\n",
       "    </tr>\n",
       "  </thead>\n",
       "  <tbody>\n",
       "    <tr>\n",
       "      <th>0</th>\n",
       "      <td>24.0</td>\n",
       "      <td>21.549452</td>\n",
       "    </tr>\n",
       "    <tr>\n",
       "      <th>1</th>\n",
       "      <td>50.0</td>\n",
       "      <td>47.464463</td>\n",
       "    </tr>\n",
       "    <tr>\n",
       "      <th>2</th>\n",
       "      <td>15.0</td>\n",
       "      <td>17.218656</td>\n",
       "    </tr>\n",
       "    <tr>\n",
       "      <th>3</th>\n",
       "      <td>38.0</td>\n",
       "      <td>36.586398</td>\n",
       "    </tr>\n",
       "    <tr>\n",
       "      <th>4</th>\n",
       "      <td>87.0</td>\n",
       "      <td>87.288984</td>\n",
       "    </tr>\n",
       "    <tr>\n",
       "      <th>5</th>\n",
       "      <td>36.0</td>\n",
       "      <td>32.463875</td>\n",
       "    </tr>\n",
       "    <tr>\n",
       "      <th>6</th>\n",
       "      <td>12.0</td>\n",
       "      <td>10.780897</td>\n",
       "    </tr>\n",
       "    <tr>\n",
       "      <th>7</th>\n",
       "      <td>81.0</td>\n",
       "      <td>80.763399</td>\n",
       "    </tr>\n",
       "    <tr>\n",
       "      <th>8</th>\n",
       "      <td>25.0</td>\n",
       "      <td>24.612151</td>\n",
       "    </tr>\n",
       "    <tr>\n",
       "      <th>9</th>\n",
       "      <td>5.0</td>\n",
       "      <td>6.963319</td>\n",
       "    </tr>\n",
       "  </tbody>\n",
       "</table>\n",
       "</div>"
      ],
      "text/plain": [
       "      x          y\n",
       "0  24.0  21.549452\n",
       "1  50.0  47.464463\n",
       "2  15.0  17.218656\n",
       "3  38.0  36.586398\n",
       "4  87.0  87.288984\n",
       "5  36.0  32.463875\n",
       "6  12.0  10.780897\n",
       "7  81.0  80.763399\n",
       "8  25.0  24.612151\n",
       "9   5.0   6.963319"
      ]
     },
     "execution_count": 9,
     "metadata": {},
     "output_type": "execute_result"
    }
   ],
   "source": [
    "data.head(10)"
   ]
  },
  {
   "cell_type": "code",
   "execution_count": 11,
   "id": "4ba5e495-92a8-4476-96e8-7f5760e352dd",
   "metadata": {},
   "outputs": [
    {
     "name": "stdout",
     "output_type": "stream",
     "text": [
      "<class 'pandas.core.frame.DataFrame'>\n",
      "RangeIndex: 700 entries, 0 to 699\n",
      "Data columns (total 2 columns):\n",
      " #   Column  Non-Null Count  Dtype  \n",
      "---  ------  --------------  -----  \n",
      " 0   x       700 non-null    float64\n",
      " 1   y       699 non-null    float64\n",
      "dtypes: float64(2)\n",
      "memory usage: 11.1 KB\n"
     ]
    }
   ],
   "source": [
    "data.info()"
   ]
  },
  {
   "cell_type": "markdown",
   "id": "08bc48b1-d5aa-4029-91b7-27bf7a948b4b",
   "metadata": {},
   "source": [
    "## Data Preprocessing"
   ]
  },
  {
   "cell_type": "code",
   "execution_count": 16,
   "id": "1709cb2b-18b1-46cc-973f-7c508fbacfbe",
   "metadata": {},
   "outputs": [
    {
     "data": {
      "text/plain": [
       "(699, 2)"
      ]
     },
     "execution_count": 16,
     "metadata": {},
     "output_type": "execute_result"
    }
   ],
   "source": [
    "data = data.dropna()\n",
    "data.shape"
   ]
  },
  {
   "cell_type": "markdown",
   "id": "804bc4f1-60fc-486a-88b9-17e3458a1738",
   "metadata": {},
   "source": [
    "## Splitting The Data "
   ]
  },
  {
   "cell_type": "code",
   "execution_count": 21,
   "id": "527c94e1-e122-4f95-9dbc-78ccdc9b7a53",
   "metadata": {},
   "outputs": [],
   "source": [
    "train_input = np.array(data.x[0:500]).reshape(500,1)\n",
    "train_output = np.array(data.y[0:500]).reshape(500,1)\n",
    "\n",
    "test_input = np.array(data.x[500:700]).reshape(199,1)\n",
    "test_output = np.array(data.y[500:700]).reshape(199,1)"
   ]
  },
  {
   "cell_type": "code",
   "execution_count": 23,
   "id": "9d7f6c4c-cad0-4478-9e62-cd0b514d437e",
   "metadata": {},
   "outputs": [
    {
     "data": {
      "text/plain": [
       "(500, 1)"
      ]
     },
     "execution_count": 23,
     "metadata": {},
     "output_type": "execute_result"
    }
   ],
   "source": [
    "train_input.shape"
   ]
  },
  {
   "cell_type": "raw",
   "id": "9aa08806-ab75-47fb-a1f2-dc7c20100c50",
   "metadata": {},
   "source": [
    "test_input.shape"
   ]
  },
  {
   "cell_type": "markdown",
   "id": "9b4450b4-f423-4281-a616-7618afc69dcf",
   "metadata": {},
   "source": [
    "# <font color = \"green\">Linear Regression</font>"
   ]
  },
  {
   "cell_type": "markdown",
   "id": "534234b4-35a9-45d4-893e-1ec0dd18f01f",
   "metadata": {},
   "source": [
    "## Training Model"
   ]
  },
  {
   "cell_type": "code",
   "execution_count": 27,
   "id": "a8cadb26-0d6e-46e9-a099-0e1bceeb038e",
   "metadata": {},
   "outputs": [],
   "source": [
    "from sklearn.linear_model import LinearRegression"
   ]
  },
  {
   "cell_type": "code",
   "execution_count": 35,
   "id": "faf5cf47-ca8f-43cb-9dac-8e3c3e0c997b",
   "metadata": {},
   "outputs": [],
   "source": [
    "linear_regressor = LinearRegression()"
   ]
  },
  {
   "cell_type": "code",
   "execution_count": 37,
   "id": "41810843-d7ab-47c3-9cb2-892b5c9ee31e",
   "metadata": {},
   "outputs": [
    {
     "data": {
      "text/html": [
       "<style>#sk-container-id-2 {color: black;background-color: white;}#sk-container-id-2 pre{padding: 0;}#sk-container-id-2 div.sk-toggleable {background-color: white;}#sk-container-id-2 label.sk-toggleable__label {cursor: pointer;display: block;width: 100%;margin-bottom: 0;padding: 0.3em;box-sizing: border-box;text-align: center;}#sk-container-id-2 label.sk-toggleable__label-arrow:before {content: \"▸\";float: left;margin-right: 0.25em;color: #696969;}#sk-container-id-2 label.sk-toggleable__label-arrow:hover:before {color: black;}#sk-container-id-2 div.sk-estimator:hover label.sk-toggleable__label-arrow:before {color: black;}#sk-container-id-2 div.sk-toggleable__content {max-height: 0;max-width: 0;overflow: hidden;text-align: left;background-color: #f0f8ff;}#sk-container-id-2 div.sk-toggleable__content pre {margin: 0.2em;color: black;border-radius: 0.25em;background-color: #f0f8ff;}#sk-container-id-2 input.sk-toggleable__control:checked~div.sk-toggleable__content {max-height: 200px;max-width: 100%;overflow: auto;}#sk-container-id-2 input.sk-toggleable__control:checked~label.sk-toggleable__label-arrow:before {content: \"▾\";}#sk-container-id-2 div.sk-estimator input.sk-toggleable__control:checked~label.sk-toggleable__label {background-color: #d4ebff;}#sk-container-id-2 div.sk-label input.sk-toggleable__control:checked~label.sk-toggleable__label {background-color: #d4ebff;}#sk-container-id-2 input.sk-hidden--visually {border: 0;clip: rect(1px 1px 1px 1px);clip: rect(1px, 1px, 1px, 1px);height: 1px;margin: -1px;overflow: hidden;padding: 0;position: absolute;width: 1px;}#sk-container-id-2 div.sk-estimator {font-family: monospace;background-color: #f0f8ff;border: 1px dotted black;border-radius: 0.25em;box-sizing: border-box;margin-bottom: 0.5em;}#sk-container-id-2 div.sk-estimator:hover {background-color: #d4ebff;}#sk-container-id-2 div.sk-parallel-item::after {content: \"\";width: 100%;border-bottom: 1px solid gray;flex-grow: 1;}#sk-container-id-2 div.sk-label:hover label.sk-toggleable__label {background-color: #d4ebff;}#sk-container-id-2 div.sk-serial::before {content: \"\";position: absolute;border-left: 1px solid gray;box-sizing: border-box;top: 0;bottom: 0;left: 50%;z-index: 0;}#sk-container-id-2 div.sk-serial {display: flex;flex-direction: column;align-items: center;background-color: white;padding-right: 0.2em;padding-left: 0.2em;position: relative;}#sk-container-id-2 div.sk-item {position: relative;z-index: 1;}#sk-container-id-2 div.sk-parallel {display: flex;align-items: stretch;justify-content: center;background-color: white;position: relative;}#sk-container-id-2 div.sk-item::before, #sk-container-id-2 div.sk-parallel-item::before {content: \"\";position: absolute;border-left: 1px solid gray;box-sizing: border-box;top: 0;bottom: 0;left: 50%;z-index: -1;}#sk-container-id-2 div.sk-parallel-item {display: flex;flex-direction: column;z-index: 1;position: relative;background-color: white;}#sk-container-id-2 div.sk-parallel-item:first-child::after {align-self: flex-end;width: 50%;}#sk-container-id-2 div.sk-parallel-item:last-child::after {align-self: flex-start;width: 50%;}#sk-container-id-2 div.sk-parallel-item:only-child::after {width: 0;}#sk-container-id-2 div.sk-dashed-wrapped {border: 1px dashed gray;margin: 0 0.4em 0.5em 0.4em;box-sizing: border-box;padding-bottom: 0.4em;background-color: white;}#sk-container-id-2 div.sk-label label {font-family: monospace;font-weight: bold;display: inline-block;line-height: 1.2em;}#sk-container-id-2 div.sk-label-container {text-align: center;}#sk-container-id-2 div.sk-container {/* jupyter's `normalize.less` sets `[hidden] { display: none; }` but bootstrap.min.css set `[hidden] { display: none !important; }` so we also need the `!important` here to be able to override the default hidden behavior on the sphinx rendered scikit-learn.org. See: https://github.com/scikit-learn/scikit-learn/issues/21755 */display: inline-block !important;position: relative;}#sk-container-id-2 div.sk-text-repr-fallback {display: none;}</style><div id=\"sk-container-id-2\" class=\"sk-top-container\"><div class=\"sk-text-repr-fallback\"><pre>LinearRegression()</pre><b>In a Jupyter environment, please rerun this cell to show the HTML representation or trust the notebook. <br />On GitHub, the HTML representation is unable to render, please try loading this page with nbviewer.org.</b></div><div class=\"sk-container\" hidden><div class=\"sk-item\"><div class=\"sk-estimator sk-toggleable\"><input class=\"sk-toggleable__control sk-hidden--visually\" id=\"sk-estimator-id-2\" type=\"checkbox\" checked><label for=\"sk-estimator-id-2\" class=\"sk-toggleable__label sk-toggleable__label-arrow\">LinearRegression</label><div class=\"sk-toggleable__content\"><pre>LinearRegression()</pre></div></div></div></div></div>"
      ],
      "text/plain": [
       "LinearRegression()"
      ]
     },
     "execution_count": 37,
     "metadata": {},
     "output_type": "execute_result"
    }
   ],
   "source": [
    "linear_regressor.fit(train_input, train_output)"
   ]
  },
  {
   "cell_type": "code",
   "execution_count": 39,
   "id": "e6450d10-d79b-4033-9460-c566278027ef",
   "metadata": {},
   "outputs": [
    {
     "data": {
      "text/plain": [
       "array([[1.0009993]])"
      ]
     },
     "execution_count": 39,
     "metadata": {},
     "output_type": "execute_result"
    }
   ],
   "source": [
    "linear_regressor.coef_"
   ]
  },
  {
   "cell_type": "code",
   "execution_count": 41,
   "id": "bc06ecac-2c9e-4614-b854-2089052c8382",
   "metadata": {},
   "outputs": [
    {
     "data": {
      "text/plain": [
       "array([-0.23603461])"
      ]
     },
     "execution_count": 41,
     "metadata": {},
     "output_type": "execute_result"
    }
   ],
   "source": [
    "linear_regressor.intercept_"
   ]
  },
  {
   "cell_type": "markdown",
   "id": "a7f8a2ef-7141-4d91-a99e-ff8588e3b1b8",
   "metadata": {},
   "source": [
    "## Predicting the Test Input"
   ]
  },
  {
   "cell_type": "code",
   "execution_count": 50,
   "id": "9a0db9a2-28a3-4909-969c-e764a9e2ece1",
   "metadata": {},
   "outputs": [],
   "source": [
    "predicted_value = linear_regressor.predict(test_input)"
   ]
  },
  {
   "cell_type": "code",
   "execution_count": 52,
   "id": "c95b0335-891b-434b-ade9-80b3f9e57bf7",
   "metadata": {},
   "outputs": [],
   "source": [
    "from sklearn.metrics import mean_squared_error\n",
    "cost = mean_squared_error(test_output, predicted_value)"
   ]
  },
  {
   "cell_type": "raw",
   "id": "757239d7-7f31-474e-af2e-adbb8a277541",
   "metadata": {},
   "source": [
    "cost"
   ]
  },
  {
   "cell_type": "code",
   "execution_count": null,
   "id": "b85c6a22-ba98-44f7-b840-4d5339d9b5de",
   "metadata": {},
   "outputs": [],
   "source": []
  },
  {
   "cell_type": "code",
   "execution_count": null,
   "id": "4c2d843f-8bef-4a71-bfe3-8de93c8da94e",
   "metadata": {},
   "outputs": [],
   "source": []
  },
  {
   "cell_type": "markdown",
   "id": "e30d3a58-8dba-4caa-93a2-c6cebcc420dd",
   "metadata": {},
   "source": [
    "## Visualising the Model Performance"
   ]
  },
  {
   "cell_type": "code",
   "execution_count": 57,
   "id": "0dacf855-732b-4412-a574-73568f01e0da",
   "metadata": {},
   "outputs": [
    {
     "data": {
      "image/png": "[encoded data removed]",
      "text/plain": [
       "<Figure size 640x480 with 1 Axes>"
      ]
     },
     "metadata": {},
     "output_type": "display_data"
    }
   ],
   "source": [
    "plt.plot(test_input, test_output, '+', color = \"green\")\n",
    "plt.plot(test_input, predicted_value, '*', color = \"red\")\n",
    "plt.title(\"Performance Testing\")\n",
    "plt.xlabel(\"Input\")\n",
    "plt.ylabel(\"Output\")\n",
    "plt.show()"
   ]
  },
  {
   "cell_type": "code",
   "execution_count": 59,
   "id": "4515f2f5-6378-4608-91c6-948d48f82fd7",
   "metadata": {},
   "outputs": [
    {
     "data": {
      "text/plain": [
       "array([[  7.68202459],\n",
       "       [ 61.01858089],\n",
       "       [ 53.60562216],\n",
       "       [ 94.47728801],\n",
       "       [ 27.9645947 ],\n",
       "       [ 62.55662585],\n",
       "       [  1.40625441],\n",
       "       [101.7003412 ],\n",
       "       [ 13.84973988],\n",
       "       [ 28.99769315],\n",
       "       [ 99.04315693],\n",
       "       [ 15.56135514],\n",
       "       [ 24.63528393],\n",
       "       [ 53.98393374],\n",
       "       [ 42.91449728],\n",
       "       [ 74.29662112],\n",
       "       [ 91.17012883],\n",
       "       [ 49.42440876],\n",
       "       [ 82.47683519],\n",
       "       [ 56.15303953],\n",
       "       [ 37.17063131],\n",
       "       [ 46.36928662],\n",
       "       [ 97.02383456],\n",
       "       [ 40.83182104],\n",
       "       [ 24.08498313],\n",
       "       [ 41.14386358],\n",
       "       [ 21.97388066],\n",
       "       [100.740897  ],\n",
       "       [ 61.19971596],\n",
       "       [ 74.39517002],\n",
       "       [ 69.04377173],\n",
       "       [ 56.68718792],\n",
       "       [  5.86039171],\n",
       "       [ 55.72021356],\n",
       "       [ 79.22021816],\n",
       "       [ 86.30177517],\n",
       "       [ 25.26971886],\n",
       "       [ 36.33294447],\n",
       "       [ 27.65574228],\n",
       "       [ 94.79690531],\n",
       "       [ 58.67366671],\n",
       "       [ 56.15934471],\n",
       "       [ 18.40919388],\n",
       "       [ 86.26936988],\n",
       "       [ 26.59436195],\n",
       "       [  8.45252016],\n",
       "       [ 56.18131518],\n",
       "       [ 27.65452669],\n",
       "       [ 20.87391785],\n",
       "       [ 77.83354439],\n",
       "       [ 50.01787825],\n",
       "       [  9.29085626],\n",
       "       [ 75.0284725 ],\n",
       "       [ 38.3037698 ],\n",
       "       [ 44.70786405],\n",
       "       [ 22.51016575],\n",
       "       [102.4959452 ],\n",
       "       [ 86.76845244],\n",
       "       [ 13.89748578],\n",
       "       [ 24.81824269],\n",
       "       [ 33.94224862],\n",
       "       [ 92.26970059],\n",
       "       [ 68.73365081],\n",
       "       [ 47.38516883],\n",
       "       [ 32.37576914],\n",
       "       [ 87.67388681],\n",
       "       [ 54.57648371],\n",
       "       [ 18.06450222],\n",
       "       [  7.89653984],\n",
       "       [ 35.00341078],\n",
       "       [ 36.72823317],\n",
       "       [ 65.84975426],\n",
       "       [ 89.59295492],\n",
       "       [ 61.69026202],\n",
       "       [ 11.60499315],\n",
       "       [ 71.0826803 ],\n",
       "       [ 43.71901164],\n",
       "       [ 41.57421008],\n",
       "       [ 74.25552425],\n",
       "       [ 66.28310437],\n",
       "       [ 36.62438077],\n",
       "       [ 10.32374866],\n",
       "       [  7.15645766],\n",
       "       [ 67.88603132],\n",
       "       [101.1097591 ],\n",
       "       [ 98.6132033 ],\n",
       "       [ 50.19083844],\n",
       "       [ 27.83896261],\n",
       "       [ 55.9249564 ],\n",
       "       [ 76.47340872],\n",
       "       [ 92.05756378],\n",
       "       [ 27.35245439],\n",
       "       [ 55.32083476],\n",
       "       [ 41.39990349],\n",
       "       [ 93.59057024],\n",
       "       [  5.29705403],\n",
       "       [ 21.01429422],\n",
       "       [  2.26705945],\n",
       "       [ -0.1218605 ],\n",
       "       [ 66.49546208],\n",
       "       [ 73.83637687],\n",
       "       [ 42.10140878],\n",
       "       [ 77.35135732],\n",
       "       [ 41.02251779],\n",
       "       [ 14.75305272],\n",
       "       [ 83.28199022],\n",
       "       [ 89.93374342],\n",
       "       [  2.28657169],\n",
       "       [ 55.61421297],\n",
       "       [ 62.15313408],\n",
       "       [ 89.55803528],\n",
       "       [ 94.00291863],\n",
       "       [ 26.78023848],\n",
       "       [ -0.76453763],\n",
       "       [  0.282866  ],\n",
       "       [ 44.26800515],\n",
       "       [ 19.85174138],\n",
       "       [ 47.15960005],\n",
       "       [  8.35936657],\n",
       "       [ 92.08157084],\n",
       "       [ 41.88734051],\n",
       "       [ 30.5413129 ],\n",
       "       [ 46.87654473],\n",
       "       [ 96.35659485],\n",
       "       [ 17.9170699 ],\n",
       "       [ 71.67949917],\n",
       "       [ 32.64997554],\n",
       "       [ 39.34482965],\n",
       "       [ 17.03401999],\n",
       "       [ 52.87524074],\n",
       "       [ 15.85414849],\n",
       "       [108.8716183 ],\n",
       "       [ 49.30477253],\n",
       "       [ 89.4749477 ],\n",
       "       [ 63.67348242],\n",
       "       [ 83.78410946],\n",
       "       [ 73.51136922],\n",
       "       [ 46.80297244],\n",
       "       [  5.8099468 ],\n",
       "       [ 85.23027975],\n",
       "       [ 10.58213964],\n",
       "       [ 21.37698317],\n",
       "       [ 46.0537745 ],\n",
       "       [ 95.2389253 ],\n",
       "       [ 94.15149206],\n",
       "       [ 54.54868046],\n",
       "       [ 87.36260449],\n",
       "       [ 88.47741598],\n",
       "       [ 84.48045678],\n",
       "       [ 48.79647071],\n",
       "       [ 10.76675683],\n",
       "       [ 30.48882921],\n",
       "       [ 29.76846185],\n",
       "       [ 13.51574749],\n",
       "       [ 86.12955884],\n",
       "       [ 43.30022747],\n",
       "       [ 51.92110232],\n",
       "       [ 16.49185287],\n",
       "       [  7.99807343],\n",
       "       [ 97.66689567],\n",
       "       [ 89.80545367],\n",
       "       [ 38.07166567],\n",
       "       [ 60.27852322],\n",
       "       [  6.70919576],\n",
       "       [ 18.35488924],\n",
       "       [ 56.37058203],\n",
       "       [ 62.80064204],\n",
       "       [ 41.25155632],\n",
       "       [ 19.42637541],\n",
       "       [ 82.88935804],\n",
       "       [ 63.61364981],\n",
       "       [ 11.29627199],\n",
       "       [ 60.02274882],\n",
       "       [ 72.60339326],\n",
       "       [ 11.87964573],\n",
       "       [100.7012737 ],\n",
       "       [ 45.12420809],\n",
       "       [ 14.81106804],\n",
       "       [ 48.09368034],\n",
       "       [ 42.29145672],\n",
       "       [ 52.73389794],\n",
       "       [ 36.72396986],\n",
       "       [ 28.64535198],\n",
       "       [ 62.16675273],\n",
       "       [ 95.58459518],\n",
       "       [ 66.04325304],\n",
       "       [ 99.9566225 ],\n",
       "       [ 46.14941984],\n",
       "       [ 89.13754963],\n",
       "       [ 69.71787806],\n",
       "       [ 12.31736648],\n",
       "       [ 78.20296268],\n",
       "       [ 71.30995371],\n",
       "       [ 81.45544709],\n",
       "       [ 58.59500642],\n",
       "       [ 94.62509374],\n",
       "       [ 88.60376995],\n",
       "       [ 63.64868529],\n",
       "       [ 94.9752655 ]])"
      ]
     },
     "execution_count": 59,
     "metadata": {},
     "output_type": "execute_result"
    }
   ],
   "source": [
    "test_output"
   ]
  },
  {
   "cell_type": "code",
   "execution_count": 61,
   "id": "1d47bc84-c8bd-4bd0-82ea-468b6d37b0a0",
   "metadata": {},
   "outputs": [
    {
     "data": {
      "text/plain": [
       "array([[ 4.76896187],\n",
       "       [60.82492252],\n",
       "       [46.81093236],\n",
       "       [97.86189652],\n",
       "       [29.7939443 ],\n",
       "       [62.82692111],\n",
       "       [-0.23603461],\n",
       "       [99.86389511],\n",
       "       [17.78195274],\n",
       "       [29.7939443 ],\n",
       "       [97.86189652],\n",
       "       [15.77995414],\n",
       "       [21.78594992],\n",
       "       [54.81892673],\n",
       "       [42.80693517],\n",
       "       [74.83891268],\n",
       "       [90.85490143],\n",
       "       [45.80993306],\n",
       "       [84.84890565],\n",
       "       [54.81892673],\n",
       "       [35.79994009],\n",
       "       [48.81293095],\n",
       "       [93.85789933],\n",
       "       [42.80693517],\n",
       "       [21.78594992],\n",
       "       [36.80093938],\n",
       "       [23.78794852],\n",
       "       [94.85889862],\n",
       "       [60.82492252],\n",
       "       [74.83891268],\n",
       "       [67.8319176 ],\n",
       "       [57.82192463],\n",
       "       [ 4.76896187],\n",
       "       [52.81692814],\n",
       "       [79.84390916],\n",
       "       [82.84690706],\n",
       "       [24.78894782],\n",
       "       [33.79794149],\n",
       "       [25.78994711],\n",
       "       [89.85390214],\n",
       "       [59.82392322],\n",
       "       [48.81293095],\n",
       "       [18.78295203],\n",
       "       [91.85590073],\n",
       "       [28.79294501],\n",
       "       [ 7.77195976],\n",
       "       [56.82092533],\n",
       "       [28.79294501],\n",
       "       [18.78295203],\n",
       "       [80.84490846],\n",
       "       [49.81393025],\n",
       "       [14.77895484],\n",
       "       [69.83391619],\n",
       "       [38.80293798],\n",
       "       [42.80693517],\n",
       "       [20.78495063],\n",
       "       [97.86189652],\n",
       "       [85.84990495],\n",
       "       [15.77995414],\n",
       "       [24.78894782],\n",
       "       [30.7949436 ],\n",
       "       [92.85690003],\n",
       "       [66.8309183 ],\n",
       "       [48.81293095],\n",
       "       [24.78894782],\n",
       "       [87.85190354],\n",
       "       [53.81792744],\n",
       "       [20.78495063],\n",
       "       [ 7.77195976],\n",
       "       [31.7959429 ],\n",
       "       [34.79894079],\n",
       "       [66.8309183 ],\n",
       "       [89.85390214],\n",
       "       [58.82292392],\n",
       "       [14.77895484],\n",
       "       [66.8309183 ],\n",
       "       [41.80593587],\n",
       "       [43.80793446],\n",
       "       [76.84091127],\n",
       "       [67.8319176 ],\n",
       "       [35.79994009],\n",
       "       [10.77495765],\n",
       "       [ 9.77395836],\n",
       "       [64.82891971],\n",
       "       [97.86189652],\n",
       "       [97.86189652],\n",
       "       [48.81293095],\n",
       "       [30.7949436 ],\n",
       "       [55.81992603],\n",
       "       [69.83391619],\n",
       "       [90.85490143],\n",
       "       [24.78894782],\n",
       "       [53.81792744],\n",
       "       [38.80293798],\n",
       "       [90.85490143],\n",
       "       [ 2.76696328],\n",
       "       [21.78594992],\n",
       "       [ 1.76596398],\n",
       "       [ 1.76596398],\n",
       "       [64.82891971],\n",
       "       [70.83491549],\n",
       "       [41.80593587],\n",
       "       [75.83991198],\n",
       "       [42.80693517],\n",
       "       [ 7.77195976],\n",
       "       [85.84990495],\n",
       "       [86.85090425],\n",
       "       [ 2.76696328],\n",
       "       [57.82192463],\n",
       "       [61.82592181],\n",
       "       [88.85290284],\n",
       "       [94.85889862],\n",
       "       [27.79194571],\n",
       "       [-0.23603461],\n",
       "       [ 0.76496468],\n",
       "       [48.81293095],\n",
       "       [20.78495063],\n",
       "       [45.80993306],\n",
       "       [10.77495765],\n",
       "       [88.85290284],\n",
       "       [36.80093938],\n",
       "       [28.79294501],\n",
       "       [43.80793446],\n",
       "       [95.85989792],\n",
       "       [15.77995414],\n",
       "       [73.83791338],\n",
       "       [34.79894079],\n",
       "       [41.80593587],\n",
       "       [15.77995414],\n",
       "       [55.81992603],\n",
       "       [17.78195274],\n",
       "       [99.86389511],\n",
       "       [53.81792744],\n",
       "       [91.85590073],\n",
       "       [62.82692111],\n",
       "       [80.84490846],\n",
       "       [72.83691408],\n",
       "       [47.81193165],\n",
       "       [ 0.76496468],\n",
       "       [84.84890565],\n",
       "       [13.77795555],\n",
       "       [24.78894782],\n",
       "       [44.80893376],\n",
       "       [97.86189652],\n",
       "       [96.86089722],\n",
       "       [57.82192463],\n",
       "       [92.85690003],\n",
       "       [87.85190354],\n",
       "       [88.85290284],\n",
       "       [46.81093236],\n",
       "       [ 5.76996117],\n",
       "       [33.79794149],\n",
       "       [29.7939443 ],\n",
       "       [15.77995414],\n",
       "       [85.84990495],\n",
       "       [39.80393727],\n",
       "       [51.81592884],\n",
       "       [14.77895484],\n",
       "       [ 3.76796257],\n",
       "       [94.85889862],\n",
       "       [98.86289581],\n",
       "       [34.79894079],\n",
       "       [57.82192463],\n",
       "       [ 9.77395836],\n",
       "       [15.77995414],\n",
       "       [52.81692814],\n",
       "       [57.82192463],\n",
       "       [41.80593587],\n",
       "       [23.78794852],\n",
       "       [83.84790635],\n",
       "       [63.82792041],\n",
       "       [11.77595695],\n",
       "       [60.82492252],\n",
       "       [74.83891268],\n",
       "       [14.77895484],\n",
       "       [99.86389511],\n",
       "       [42.80693517],\n",
       "       [12.77695625],\n",
       "       [47.81193165],\n",
       "       [44.80893376],\n",
       "       [51.81592884],\n",
       "       [33.79794149],\n",
       "       [29.7939443 ],\n",
       "       [64.82891971],\n",
       "       [99.86389511],\n",
       "       [66.8309183 ],\n",
       "       [98.86289581],\n",
       "       [44.80893376],\n",
       "       [86.85090425],\n",
       "       [72.83691408],\n",
       "       [ 8.77295906],\n",
       "       [80.84490846],\n",
       "       [71.83591479],\n",
       "       [80.84490846],\n",
       "       [57.82192463],\n",
       "       [92.85690003],\n",
       "       [81.84590776],\n",
       "       [65.829919  ],\n",
       "       [96.86089722]])"
      ]
     },
     "execution_count": 61,
     "metadata": {},
     "output_type": "execute_result"
    }
   ],
   "source": [
    "predicted_value"
   ]
  },
  {
   "cell_type": "code",
   "execution_count": 63,
   "id": "b6351625-c8d5-4c26-8179-a81073a5cee9",
   "metadata": {},
   "outputs": [],
   "source": [
    "import pickle"
   ]
  },
  {
   "cell_type": "code",
   "execution_count": 65,
   "id": "7a34858c-efaf-469f-bef9-076a6740eefe",
   "metadata": {},
   "outputs": [],
   "source": [
    "filename = 'finalized_model.sav'"
   ]
  },
  {
   "cell_type": "code",
   "execution_count": 69,
   "id": "cb341b9a-b5dd-41bf-8aea-a72f79ab9daf",
   "metadata": {},
   "outputs": [],
   "source": [
    "pickle.dump(linear_regressor, open(filename, 'wb'))"
   ]
  },
  {
   "cell_type": "code",
   "execution_count": 71,
   "id": "18f70d5c-31c2-48bc-9309-760be569d781",
   "metadata": {},
   "outputs": [],
   "source": [
    "loaded_model = pickle.load(open(filename,'rb'))"
   ]
  },
  {
   "cell_type": "code",
   "execution_count": 77,
   "id": "ab3cbdd0-b6ec-43dc-85d5-c333e37382bc",
   "metadata": {},
   "outputs": [
    {
     "name": "stdout",
     "output_type": "stream",
     "text": [
      "LinearRegression()\n"
     ]
    }
   ],
   "source": [
    "result = loaded_model.fit(train_input, train_output)\n",
    "print(result)"
   ]
  },
  {
   "cell_type": "code",
   "execution_count": 79,
   "id": "f74647f0-40a8-4242-bdb1-87ddf3ef8688",
   "metadata": {},
   "outputs": [],
   "source": [
    "a = loaded_model.predict(test_input)"
   ]
  },
  {
   "cell_type": "code",
   "execution_count": 81,
   "id": "ae25ed78-066e-4a1d-9d8a-78aa9c98f1a7",
   "metadata": {},
   "outputs": [
    {
     "data": {
      "text/plain": [
       "array([[ 4.76896187],\n",
       "       [60.82492252],\n",
       "       [46.81093236],\n",
       "       [97.86189652],\n",
       "       [29.7939443 ],\n",
       "       [62.82692111],\n",
       "       [-0.23603461],\n",
       "       [99.86389511],\n",
       "       [17.78195274],\n",
       "       [29.7939443 ],\n",
       "       [97.86189652],\n",
       "       [15.77995414],\n",
       "       [21.78594992],\n",
       "       [54.81892673],\n",
       "       [42.80693517],\n",
       "       [74.83891268],\n",
       "       [90.85490143],\n",
       "       [45.80993306],\n",
       "       [84.84890565],\n",
       "       [54.81892673],\n",
       "       [35.79994009],\n",
       "       [48.81293095],\n",
       "       [93.85789933],\n",
       "       [42.80693517],\n",
       "       [21.78594992],\n",
       "       [36.80093938],\n",
       "       [23.78794852],\n",
       "       [94.85889862],\n",
       "       [60.82492252],\n",
       "       [74.83891268],\n",
       "       [67.8319176 ],\n",
       "       [57.82192463],\n",
       "       [ 4.76896187],\n",
       "       [52.81692814],\n",
       "       [79.84390916],\n",
       "       [82.84690706],\n",
       "       [24.78894782],\n",
       "       [33.79794149],\n",
       "       [25.78994711],\n",
       "       [89.85390214],\n",
       "       [59.82392322],\n",
       "       [48.81293095],\n",
       "       [18.78295203],\n",
       "       [91.85590073],\n",
       "       [28.79294501],\n",
       "       [ 7.77195976],\n",
       "       [56.82092533],\n",
       "       [28.79294501],\n",
       "       [18.78295203],\n",
       "       [80.84490846],\n",
       "       [49.81393025],\n",
       "       [14.77895484],\n",
       "       [69.83391619],\n",
       "       [38.80293798],\n",
       "       [42.80693517],\n",
       "       [20.78495063],\n",
       "       [97.86189652],\n",
       "       [85.84990495],\n",
       "       [15.77995414],\n",
       "       [24.78894782],\n",
       "       [30.7949436 ],\n",
       "       [92.85690003],\n",
       "       [66.8309183 ],\n",
       "       [48.81293095],\n",
       "       [24.78894782],\n",
       "       [87.85190354],\n",
       "       [53.81792744],\n",
       "       [20.78495063],\n",
       "       [ 7.77195976],\n",
       "       [31.7959429 ],\n",
       "       [34.79894079],\n",
       "       [66.8309183 ],\n",
       "       [89.85390214],\n",
       "       [58.82292392],\n",
       "       [14.77895484],\n",
       "       [66.8309183 ],\n",
       "       [41.80593587],\n",
       "       [43.80793446],\n",
       "       [76.84091127],\n",
       "       [67.8319176 ],\n",
       "       [35.79994009],\n",
       "       [10.77495765],\n",
       "       [ 9.77395836],\n",
       "       [64.82891971],\n",
       "       [97.86189652],\n",
       "       [97.86189652],\n",
       "       [48.81293095],\n",
       "       [30.7949436 ],\n",
       "       [55.81992603],\n",
       "       [69.83391619],\n",
       "       [90.85490143],\n",
       "       [24.78894782],\n",
       "       [53.81792744],\n",
       "       [38.80293798],\n",
       "       [90.85490143],\n",
       "       [ 2.76696328],\n",
       "       [21.78594992],\n",
       "       [ 1.76596398],\n",
       "       [ 1.76596398],\n",
       "       [64.82891971],\n",
       "       [70.83491549],\n",
       "       [41.80593587],\n",
       "       [75.83991198],\n",
       "       [42.80693517],\n",
       "       [ 7.77195976],\n",
       "       [85.84990495],\n",
       "       [86.85090425],\n",
       "       [ 2.76696328],\n",
       "       [57.82192463],\n",
       "       [61.82592181],\n",
       "       [88.85290284],\n",
       "       [94.85889862],\n",
       "       [27.79194571],\n",
       "       [-0.23603461],\n",
       "       [ 0.76496468],\n",
       "       [48.81293095],\n",
       "       [20.78495063],\n",
       "       [45.80993306],\n",
       "       [10.77495765],\n",
       "       [88.85290284],\n",
       "       [36.80093938],\n",
       "       [28.79294501],\n",
       "       [43.80793446],\n",
       "       [95.85989792],\n",
       "       [15.77995414],\n",
       "       [73.83791338],\n",
       "       [34.79894079],\n",
       "       [41.80593587],\n",
       "       [15.77995414],\n",
       "       [55.81992603],\n",
       "       [17.78195274],\n",
       "       [99.86389511],\n",
       "       [53.81792744],\n",
       "       [91.85590073],\n",
       "       [62.82692111],\n",
       "       [80.84490846],\n",
       "       [72.83691408],\n",
       "       [47.81193165],\n",
       "       [ 0.76496468],\n",
       "       [84.84890565],\n",
       "       [13.77795555],\n",
       "       [24.78894782],\n",
       "       [44.80893376],\n",
       "       [97.86189652],\n",
       "       [96.86089722],\n",
       "       [57.82192463],\n",
       "       [92.85690003],\n",
       "       [87.85190354],\n",
       "       [88.85290284],\n",
       "       [46.81093236],\n",
       "       [ 5.76996117],\n",
       "       [33.79794149],\n",
       "       [29.7939443 ],\n",
       "       [15.77995414],\n",
       "       [85.84990495],\n",
       "       [39.80393727],\n",
       "       [51.81592884],\n",
       "       [14.77895484],\n",
       "       [ 3.76796257],\n",
       "       [94.85889862],\n",
       "       [98.86289581],\n",
       "       [34.79894079],\n",
       "       [57.82192463],\n",
       "       [ 9.77395836],\n",
       "       [15.77995414],\n",
       "       [52.81692814],\n",
       "       [57.82192463],\n",
       "       [41.80593587],\n",
       "       [23.78794852],\n",
       "       [83.84790635],\n",
       "       [63.82792041],\n",
       "       [11.77595695],\n",
       "       [60.82492252],\n",
       "       [74.83891268],\n",
       "       [14.77895484],\n",
       "       [99.86389511],\n",
       "       [42.80693517],\n",
       "       [12.77695625],\n",
       "       [47.81193165],\n",
       "       [44.80893376],\n",
       "       [51.81592884],\n",
       "       [33.79794149],\n",
       "       [29.7939443 ],\n",
       "       [64.82891971],\n",
       "       [99.86389511],\n",
       "       [66.8309183 ],\n",
       "       [98.86289581],\n",
       "       [44.80893376],\n",
       "       [86.85090425],\n",
       "       [72.83691408],\n",
       "       [ 8.77295906],\n",
       "       [80.84490846],\n",
       "       [71.83591479],\n",
       "       [80.84490846],\n",
       "       [57.82192463],\n",
       "       [92.85690003],\n",
       "       [81.84590776],\n",
       "       [65.829919  ],\n",
       "       [96.86089722]])"
      ]
     },
     "execution_count": 81,
     "metadata": {},
     "output_type": "execute_result"
    }
   ],
   "source": [
    "a"
   ]
  },
  {
   "cell_type": "code",
   "execution_count": null,
   "id": "b212ae38-cbc3-4d34-a05a-348e6b1e5bc0",
   "metadata": {},
   "outputs": [],
   "source": []
  }
 ],
 "metadata": {
  "kernelspec": {
   "display_name": "Python 3 (ipykernel)",
   "language": "python",
   "name": "python3"
  },
  "language_info": {
   "codemirror_mode": {
    "name": "ipython",
    "version": 3
   },
   "file_extension": ".py",
   "mimetype": "text/x-python",
   "name": "python",
   "nbconvert_exporter": "python",
   "pygments_lexer": "ipython3",
   "version": "3.11.7"
  }
 },
 "nbformat": 4,
 "nbformat_minor": 5
}
